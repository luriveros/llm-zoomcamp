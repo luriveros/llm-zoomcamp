{
 "cells": [
  {
   "cell_type": "code",
   "execution_count": null,
   "id": "1555eda4-29a2-4237-b2ad-6ed592cb3201",
   "metadata": {},
   "outputs": [],
   "source": [
    "!pip install groq elasticsearch tqdm"
   ]
  },
  {
   "cell_type": "markdown",
   "id": "4beef0cb-00dc-44de-8e28-979d48326c2e",
   "metadata": {},
   "source": [
    "!wget https://raw.githubusercontent.com/alexeygrigorev/minsearch/main/minsearch.py"
   ]
  },
  {
   "cell_type": "code",
   "execution_count": 129,
   "id": "15fd93dd-79b5-4e5d-bb39-50a88d938741",
   "metadata": {},
   "outputs": [],
   "source": [
    "import minsearch, json\n",
    "from groq import Groq\n",
    "from tqdm.auto import tqdm"
   ]
  },
  {
   "cell_type": "markdown",
   "id": "71674ca1-74c1-4202-ad0e-dd87db388e3c",
   "metadata": {},
   "source": [
    "# Load Documents"
   ]
  },
  {
   "cell_type": "code",
   "execution_count": 15,
   "id": "989be7f6-ee9b-4969-a575-e0348694a491",
   "metadata": {},
   "outputs": [],
   "source": [
    "with open('documents.json', 'rt') as ft:\n",
    "    doc_raw = json.load(ft)\n",
    "documents = []\n",
    "for course_dict in doc_raw:\n",
    "        course_name = course_dict[\"course\"]\n",
    "        for doc in course_dict[\"documents\"]:\n",
    "             doc['course'] = course_name\n",
    "             documents.append(doc)"
   ]
  },
  {
   "cell_type": "code",
   "execution_count": 20,
   "id": "d9dbfa91-dcbe-42af-903a-29b784506a7f",
   "metadata": {},
   "outputs": [],
   "source": [
    "Index  = minsearch.Index(\n",
    "    text_fields = [\"question\",\"text\",\"section\"],\n",
    "    keyword_fields = [\"course\"]\n",
    ")\n",
    "Index.fit(documents)"
   ]
  },
  {
   "cell_type": "code",
   "execution_count": null,
   "id": "a1b0ca17-5e4b-4ea6-b59c-4912f75f2fc3",
   "metadata": {},
   "outputs": [],
   "source": [
    "from elasticsearch import Elasticsearch\n",
    "\n",
    "es_client = Elasticsearch(\"http://localhost:9200\")\n",
    "es_client.info()\n",
    "\n",
    "index_settings = {\n",
    "    \"settings\": {\n",
    "        \"number_of_shards\": 1,\n",
    "        \"number_of_replicas\": 0\n",
    "    },\n",
    "    \"mappings\": {\n",
    "        \"properties\": {\n",
    "            \"text\": {\"type\": \"text\"},\n",
    "            \"section\": {\"type\": \"text\"},\n",
    "            \"question\": {\"type\": \"text\"},\n",
    "            \"course\": {\"type\": \"keyword\"} \n",
    "        }\n",
    "    }\n",
    "}\n",
    "\n",
    "index_name = \"course-questions\"\n",
    "response = es.indices.create(index=index_name, body=index_settings)\n",
    "for doc in tqdm(documents):\n",
    "    es_client.index(index=index_name, document=doc)"
   ]
  },
  {
   "cell_type": "code",
   "execution_count": 137,
   "id": "c796fef3-abc0-48fa-85e3-2b44ed31988e",
   "metadata": {},
   "outputs": [],
   "source": [
    "def search_elastic(query):\n",
    "    \n",
    "    search_query = {\n",
    "        \"size\": 5,\n",
    "        \"query\": {\n",
    "            \"bool\": {\n",
    "                \"must\": {\n",
    "                    \"multi_match\": {\n",
    "                        \"query\": query,\n",
    "                        \"fields\": [\"question^3\", \"text\", \"section\"],\n",
    "                        \"type\": \"best_fields\"\n",
    "                    }\n",
    "                },\n",
    "                \"filter\": {\n",
    "                    \"term\": {\n",
    "                        \"course\": \"data-engineering-zoomcamp\"\n",
    "                    }\n",
    "                }\n",
    "            }\n",
    "        }\n",
    "    }\n",
    "    response = es_client.search(index=index_name, body=search_query)\n",
    "    documents = [hit['_source'] for hit in response['hits']['hits']]\n",
    "    return documents\n",
    "\n",
    "def search(query):\n",
    "    boost = {'question':3.0,'section':0.5}\n",
    "    results = Index.search(\n",
    "    query=query,\n",
    "    filter_dict = {'course':'data-engineering-zoomcamp'},\n",
    "    boost_dict = boost,\n",
    "    num_results = 5)\n",
    "    return results\n",
    "\n",
    "def build_prompt(query, search_results):\n",
    "    promt_template = \"\"\"\n",
    "    You are a course teaching assistant. Answer the QUESTION on the CONTEXT. \n",
    "    Use only the facts from the CONTEXT when answering the QUESTIONS.\n",
    "    if the CONTEXT does not contain the answer, output NONE\n",
    "    \n",
    "    QUESTION: {question}\n",
    "    \n",
    "    CONTEXT :\n",
    "    {context}\n",
    "    \n",
    "    \"\"\".strip()\n",
    "\n",
    "    context = \"\"\n",
    "    \n",
    "    for doc in search_results:\n",
    "        context = context+ f\"section : {doc['section']}\\nquestion : {doc['question']}\\nanswer:{doc['text']}\\n\\n\"\n",
    "    promt= promt_template.format(question=query, context=context)\n",
    "    return  promt\n",
    "\n",
    "def llm(promt,api_key):\n",
    "    client = Groq(\n",
    "    api_key = (api_key),\n",
    "    )\n",
    "    chat_completion = client.chat.completions.create(\n",
    "    messages = [\n",
    "        {\n",
    "        \"role\":\"user\",\n",
    "        \"content\":promt,\n",
    "        }\n",
    "    ],\n",
    "    model = \"mixtral-8x7b-32768\",\n",
    "    )\n",
    "    return (chat_completion.choices[0].message.content)\n",
    "\n",
    "def rag(query, api_key):\n",
    "    search_results = search(query)\n",
    "    promt_question = build_prompt(query, search_results)\n",
    "    answer = llm(promt_question, api_key)\n",
    "    return print(answer)\n",
    "\n",
    "def rag_elastic(query):\n",
    "    search_results = search_elastic(query)\n",
    "    promt_question = build_prompt(query, search_results)\n",
    "    answer = llm(promt_question)\n",
    "    return print(answer)"
   ]
  },
  {
   "cell_type": "code",
   "execution_count": 138,
   "id": "f1c42889-1e32-4a6c-a1e8-0ff8da985042",
   "metadata": {},
   "outputs": [
    {
     "name": "stdout",
     "output_type": "stream",
     "text": [
      "To run Kafka for a beginner, first create a virtual environment and install the necessary packages. Here are the steps:\n",
      "\n",
      "1. Create a virtual environment:\n",
      "   ```\n",
      "   python -m venv env\n",
      "   ```\n",
      "2. Activate the virtual environment:\n",
      "   - For MacOS, Linux:\n",
      "     ```\n",
      "     source env/bin/activate\n",
      "     ```\n",
      "   - For Windows:\n",
      "     ```\n",
      "     env/Scripts/activate\n",
      "     ```\n",
      "3. Install the required packages:\n",
      "   ```\n",
      "   pip install -r ../requirements.txt\n",
      "   ```\n",
      "4. If you are using Python, you can install the `confluent-kafka` and `fastavro` packages using:\n",
      "   ```\n",
      "   pip install confluent-kafka fastavro\n",
      "   ```\n",
      "\n",
      "If you encounter the error \"ModuleNotFoundError: No module named 'kafka.vendor.six.moves'\", you can fix it by using `kafka-python-ng` instead:\n",
      "```\n",
      "pip install kafka-python-ng\n",
      "```\n",
      "\n",
      "If you are using Docker, make sure all the images are up and running before creating the virtual environment.\n",
      "\n",
      "For Java Kafka, you can run the producer/consumer/kstreams/etc in the terminal by running the following command in the project directory:\n",
      "```\n",
      "java -cp build/libs/<jar_name>-1.0-SNAPSHOT.jar:out src/main/java/org/example/JsonProducer.java\n",
      "```\n",
      "\n",
      "If you encounter the error \"./build.sh: Permission denied\", you can fix it by running the following command in the terminal in the same directory:\n",
      "```bash\n",
      "chmod +x build.sh\n",
      "```\n"
     ]
    }
   ],
   "source": [
    "query = 'how i run kafka for begginer?'\n",
    "api_key = ''\n",
    "rag(query,api_key)\n"
   ]
  }
 ],
 "metadata": {
  "kernelspec": {
   "display_name": "Python 3 (ipykernel)",
   "language": "python",
   "name": "python3"
  },
  "language_info": {
   "codemirror_mode": {
    "name": "ipython",
    "version": 3
   },
   "file_extension": ".py",
   "mimetype": "text/x-python",
   "name": "python",
   "nbconvert_exporter": "python",
   "pygments_lexer": "ipython3",
   "version": "3.10.13"
  }
 },
 "nbformat": 4,
 "nbformat_minor": 5
}
